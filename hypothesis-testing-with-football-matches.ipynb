{
 "cells": [
  {
   "cell_type": "markdown",
   "id": "46a9aee9",
   "metadata": {
    "papermill": {
     "duration": 0.002699,
     "end_time": "2024-08-27T10:57:09.910917",
     "exception": false,
     "start_time": "2024-08-27T10:57:09.908218",
     "status": "completed"
    },
    "tags": []
   },
   "source": [
    "You're working as a sports journalist at a major online sports media company, specializing in soccer analysis and reporting. You've been watching both men's and women's international football matches for a number of years, and your gut instinct tells you that more goals are scored in women's international football matches than men's. This would make an interesting investigative article that your subscribers are bound to love, but you'll need to perform a valid statistical hypothesis test to be sure!\n",
    "\n",
    "While scoping this project, you acknowledge that the sport has changed a lot over the years, and performances likely vary a lot depending on the tournament, so you decide to limit the data used in the analysis to only official `FIFA World Cup` matches (not including qualifiers) since `2002-01-01`.\n",
    "\n",
    "You create two datasets containing the results of every official men's and women's international football match since the 19th century, which you scraped from a reliable online source. This data is stored in two CSV files: `women_results.csv` and `men_results.csv`.\n",
    "\n",
    "The question you are trying to determine the answer to is:\n",
    "\n",
    "> Are more goals scored in women's international football matches than men's?\n",
    "\n",
    "You assume a **10% significance level**, and use the following null and alternative hypotheses:\n",
    "\n",
    "$H_0$ : The mean number of goals scored in women's international football matches is the same as men's.\n",
    "\n",
    "$H_A$ : The mean number of goals scored in women's international football matches is greater than men's."
   ]
  },
  {
   "cell_type": "code",
   "execution_count": 1,
   "id": "aafc2c28",
   "metadata": {
    "execution": {
     "iopub.execute_input": "2024-08-27T10:57:09.917485Z",
     "iopub.status.busy": "2024-08-27T10:57:09.916899Z",
     "iopub.status.idle": "2024-08-27T10:57:29.609577Z",
     "shell.execute_reply": "2024-08-27T10:57:29.608249Z"
    },
    "executionCancelledAt": null,
    "executionTime": 465,
    "lastExecutedAt": 1724755346000,
    "lastExecutedByKernel": "d3fc2a4f-163b-41f6-9e93-712e24eceea1",
    "lastScheduledRunId": null,
    "lastSuccessfullyExecutedCode": "# Start your code here!\nimport pandas as pd \nimport numpy as np\nimport seaborn as sns\nimport matplotlib.pyplot as plt\nimport pingouin as pg\n\nmen=pd.read_csv(\"men_results.csv\")\nwomen=pd.read_csv(\"women_results.csv\")\n\nmens = men[(men[\"date\"]>\"2002-01-01\") & (men[\"tournament\"]==\"FIFA World Cup\")]\nwomens= women[(women[\"date\"]>\"2002-01-01\") & (women[\"tournament\"]==\"FIFA World Cup\")]\nmens[\"total_goals\"] = mens[\"home_score\"]+mens[\"away_score\"]\nwomens[\"total_goals\"] = womens[\"home_score\"]+womens[\"away_score\"]\n\n\nprint(mens[\"total_goals\"].mean())\nplt.hist(data=mens,x=\"total_goals\")\nplt.title('men total')\nplt.show()\n\nprint(womens[\"total_goals\"].mean())\nplt.hist(data=womens,x=\"total_goals\")\nplt.title('women total')\nplt.show()\n\nmens_wide=mens.pivot(columns=\"tournament\",\n                    values=\"total_goals\")\nwomens_wide=womens.pivot(columns=\"tournament\",\n                    values=\"total_goals\")\n\nmwu=pg.mwu(x=womens_wide[\"FIFA World Cup\"],\n      y=mens_wide[\"FIFA World Cup\"],\n      alternative=\"greater\")\np_val=np.array(mwu[\"p-val\"])\nresult_dict = {\"p_val\": p_val, \"result\": \"reject\"}\n\nprint(result_dict)",
    "outputsMetadata": {
     "0": {
      "height": 501,
      "type": "stream"
     },
     "1": {
      "height": 353,
      "type": "stream"
     },
     "2": {
      "height": 38,
      "type": "stream"
     },
     "3": {
      "height": 501,
      "type": "stream"
     }
    },
    "papermill": {
     "duration": 19.698719,
     "end_time": "2024-08-27T10:57:29.611933",
     "exception": false,
     "start_time": "2024-08-27T10:57:09.913214",
     "status": "completed"
    },
    "tags": []
   },
   "outputs": [
    {
     "name": "stdout",
     "output_type": "stream",
     "text": [
      "\u001b[31mERROR: pip's dependency resolver does not currently take into account all the packages that are installed. This behaviour is the source of the following dependency conflicts.\r\n",
      "google-cloud-bigquery 2.34.4 requires packaging<22.0dev,>=14.3, but you have packaging 24.1 which is incompatible.\r\n",
      "jupyterlab 4.2.4 requires jupyter-lsp>=2.0.0, but you have jupyter-lsp 1.5.1 which is incompatible.\r\n",
      "jupyterlab-lsp 5.1.0 requires jupyter-lsp>=2.0.0, but you have jupyter-lsp 1.5.1 which is incompatible.\r\n",
      "libpysal 4.9.2 requires shapely>=2.0.1, but you have shapely 1.8.5.post1 which is incompatible.\r\n",
      "momepy 0.7.2 requires shapely>=2, but you have shapely 1.8.5.post1 which is incompatible.\r\n",
      "osmnx 1.9.4 requires shapely<2.1,>=2.0, but you have shapely 1.8.5.post1 which is incompatible.\r\n",
      "pointpats 2.5.0 requires shapely>=2, but you have shapely 1.8.5.post1 which is incompatible.\r\n",
      "spaghetti 1.7.6 requires shapely>=2.0.1, but you have shapely 1.8.5.post1 which is incompatible.\r\n",
      "spopt 0.6.1 requires shapely>=2.0.1, but you have shapely 1.8.5.post1 which is incompatible.\r\n",
      "ydata-profiling 4.9.0 requires scipy<1.14,>=1.4.1, but you have scipy 1.14.0 which is incompatible.\u001b[0m\u001b[31m\r\n",
      "\u001b[0m2.5130208333333335\n"
     ]
    },
    {
     "data": {
      "image/png": "[encoded data removed]",
      "text/plain": [
       "<Figure size 640x480 with 1 Axes>"
      ]
     },
     "metadata": {},
     "output_type": "display_data"
    },
    {
     "name": "stdout",
     "output_type": "stream",
     "text": [
      "2.98\n"
     ]
    },
    {
     "data": {
      "image/png": "[encoded data removed]",
      "text/plain": [
       "<Figure size 640x480 with 1 Axes>"
      ]
     },
     "metadata": {},
     "output_type": "display_data"
    },
    {
     "name": "stdout",
     "output_type": "stream",
     "text": [
      "{'p_val': array([0.00510661]), 'result': 'reject'}\n"
     ]
    }
   ],
   "source": [
    "!pip install pingouin -q\n",
    "\n",
    "import pandas as pd \n",
    "import numpy as np\n",
    "import seaborn as sns\n",
    "import matplotlib.pyplot as plt\n",
    "import pingouin as pg\n",
    "\n",
    "men=pd.read_csv(\"/kaggle/input/football/men_results.csv\")\n",
    "women=pd.read_csv(\"/kaggle/input/football/women_results.csv\")\n",
    "\n",
    "mens = men[(men[\"date\"]>\"2002-01-01\") & (men[\"tournament\"]==\"FIFA World Cup\")].copy()\n",
    "womens= women[(women[\"date\"]>\"2002-01-01\") & (women[\"tournament\"]==\"FIFA World Cup\")].copy()\n",
    "mens[\"total_goals\"] = mens[\"home_score\"]+mens[\"away_score\"]\n",
    "womens[\"total_goals\"] = womens[\"home_score\"]+womens[\"away_score\"]\n",
    "\n",
    "\n",
    "print(mens[\"total_goals\"].mean())\n",
    "plt.hist(data=mens,x=\"total_goals\")\n",
    "plt.title('men total')\n",
    "plt.show()\n",
    "\n",
    "print(womens[\"total_goals\"].mean())\n",
    "plt.hist(data=womens,x=\"total_goals\")\n",
    "plt.title('women total')\n",
    "plt.show()\n",
    "\n",
    "mens_wide=mens.pivot(columns=\"tournament\",\n",
    "                    values=\"total_goals\")\n",
    "womens_wide=womens.pivot(columns=\"tournament\",\n",
    "                    values=\"total_goals\")\n",
    "\n",
    "mwu=pg.mwu(x=womens_wide[\"FIFA World Cup\"],\n",
    "      y=mens_wide[\"FIFA World Cup\"],\n",
    "      alternative=\"greater\")\n",
    "p_val=np.array(mwu[\"p-val\"])\n",
    "result_dict = {\"p_val\": p_val, \"result\": \"reject\"}\n",
    "\n",
    "print(result_dict)"
   ]
  }
 ],
 "metadata": {
  "colab": {
   "name": "Welcome to DataCamp Workspaces.ipynb",
   "provenance": []
  },
  "kaggle": {
   "accelerator": "none",
   "dataSources": [
    {
     "datasetId": 5601706,
     "sourceId": 9258290,
     "sourceType": "datasetVersion"
    }
   ],
   "dockerImageVersionId": 30761,
   "isGpuEnabled": false,
   "isInternetEnabled": true,
   "language": "python",
   "sourceType": "notebook"
  },
  "kernelspec": {
   "display_name": "Python 3",
   "language": "python",
   "name": "python3"
  },
  "language_info": {
   "codemirror_mode": {
    "name": "ipython",
    "version": 3
   },
   "file_extension": ".py",
   "mimetype": "text/x-python",
   "name": "python",
   "nbconvert_exporter": "python",
   "pygments_lexer": "ipython3",
   "version": "3.10.14"
  },
  "papermill": {
   "default_parameters": {},
   "duration": 22.967029,
   "end_time": "2024-08-27T10:57:30.135570",
   "environment_variables": {},
   "exception": null,
   "input_path": "__notebook__.ipynb",
   "output_path": "__notebook__.ipynb",
   "parameters": {},
   "start_time": "2024-08-27T10:57:07.168541",
   "version": "2.6.0"
  }
 },
 "nbformat": 4,
 "nbformat_minor": 5
}
